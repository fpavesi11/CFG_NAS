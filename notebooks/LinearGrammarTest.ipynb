{
 "cells": [
  {
   "cell_type": "markdown",
   "source": [
    "# LINEAR GRAMMAR"
   ],
   "metadata": {
    "collapsed": false
   }
  },
  {
   "cell_type": "markdown",
   "source": [
    "Linear grammar is based on LinearGrammarV2 and LinearTranslator"
   ],
   "metadata": {
    "collapsed": false
   }
  },
  {
   "cell_type": "markdown",
   "source": [
    "### GENERATE A RANDOM NETWORK\n",
    "\n",
    "This grammar works with a set of production rules which generate a random network without specifying dimensions such as number of features for each layer.\n",
    "\n",
    "The user must specify the desired number of layers in the network.\n",
    "\n",
    "Tree construction is sequential and follows these simple rules:\n",
    "1) First node is always start\n",
    "2) If previous node is <start>, sampled node can only be linear\n",
    "3) If previous node is linear, sampled node can be, with same probability, linear or dropout\n",
    "4) If previous node is dropout, sampled node can only be linear\n",
    "5) Last node is always <end>"
   ],
   "metadata": {
    "collapsed": false
   }
  },
  {
   "cell_type": "code",
   "execution_count": 1,
   "outputs": [
    {
     "name": "stdout",
     "output_type": "stream",
     "text": [
      "['<start>', None, None]\n",
      "['linear', None, None]\n",
      "['dropout', None, None]\n",
      "['linear', None, None]\n",
      "['linear', None, None]\n",
      "['dropout', None, None]\n",
      "['linear', None, None]\n",
      "['dropout', None, None]\n",
      "['<end>', None, None]\n"
     ]
    }
   ],
   "source": [
    "from cfg_nas.LinearGrammarV2 import LinearProductionRules\n",
    "\n",
    "n_layers = 7\n",
    "\n",
    "production_rules = LinearProductionRules(n_layers=n_layers)\n",
    "\n",
    "empty_tree = production_rules.grow_tree()\n",
    "\n",
    "for node in empty_tree:\n",
    "    print(node)"
   ],
   "metadata": {
    "collapsed": false
   }
  },
  {
   "cell_type": "markdown",
   "source": [
    "### FILL THE RANDOM NETWORK\n",
    "\n",
    "Class __LinearGrammar__ does two things:\n",
    "1) Generates an empty tree (as before)\n",
    "2) Fill empty tree entries with reasonable values\n",
    "\n",
    "It needs as parameters:\n",
    "- Input dimension (number of features of input data)\n",
    "- Output dimension (ex. 1 could be regression or binary classification)\n",
    "- Number of Layers\n",
    "- hidden\\_in (number of output channels for the first linear)\n",
    "- hidden\\_out (number of output channels for last linear)\n",
    "\n",
    "Setting layers parameters follows some rules:\n",
    "\n",
    "__\\<start\\>__: this node is filled in the first position with the number of _features of input data_\n",
    "\n",
    "__linear__: linear modules number of features are set such that there is linear convergence from _hidden\\_in_ to _hidden\\_out_. In first position we can find number of _output neurons_ while second dimension is empty.\n",
    "\n",
    "__dropout__: _dropout percentage_ is randomly sampled from a Beta with most of the probability mass concentrated in values lower than 0.5. This percenage can be found in first position while second position is empty\n",
    "\n",
    "__\\<end\\>__: this node is the final dense layer, which outputs objective number of features. This quantity is found in first position while second is empty."
   ],
   "metadata": {
    "collapsed": false
   }
  },
  {
   "cell_type": "code",
   "execution_count": 2,
   "outputs": [
    {
     "name": "stdout",
     "output_type": "stream",
     "text": [
      "('<start>', 64, None)\n",
      "('linear', 256, None)\n",
      "('dropout', 0.24716726455798316, None)\n",
      "('linear', 132, None)\n",
      "('dropout', 0.22377864182450835, None)\n",
      "('linear', 8, None)\n",
      "('<end>', 1, None)\n"
     ]
    }
   ],
   "source": [
    "from cfg_nas.LinearGrammarV2 import LinearGrammar\n",
    "\n",
    "lingram = LinearGrammar(input_dim=64,\n",
    "                        output_dim=1,\n",
    "                        n_layers=5,\n",
    "                        hidden_in=256,\n",
    "                        hidden_out=8)\n",
    "\n",
    "net = lingram.produceNetwork()\n",
    "for layer in net:\n",
    "    print(layer)"
   ],
   "metadata": {
    "collapsed": false
   }
  },
  {
   "cell_type": "markdown",
   "source": [
    "### TRANSLATE THE MODEL INTO A TORCH WORKING MODEL\n",
    "\n",
    "In order to translate previous network to a working pytorch architecture, we need to pass it to TranslatedNetwork, which only needs the specification of the last activation and the type of all inner activations."
   ],
   "metadata": {
    "collapsed": false
   }
  },
  {
   "cell_type": "code",
   "execution_count": 3,
   "outputs": [
    {
     "name": "stdout",
     "output_type": "stream",
     "text": [
      "Sequential(\n",
      "  (0): Linear(in_features=64, out_features=256, bias=True)\n",
      "  (1): ReLU()\n",
      "  (2): Dropout(p=0.24716726455798316, inplace=False)\n",
      "  (3): Linear(in_features=256, out_features=132, bias=True)\n",
      "  (4): ReLU()\n",
      "  (5): Dropout(p=0.22377864182450835, inplace=False)\n",
      "  (6): Linear(in_features=132, out_features=8, bias=True)\n",
      "  (7): ReLU()\n",
      "  (8): Linear(in_features=8, out_features=1, bias=True)\n",
      "  (9): Sigmoid()\n",
      ")\n"
     ]
    }
   ],
   "source": [
    "from cfg_nas.LinearTranslator import TranslatedNetwork\n",
    "from torch import nn\n",
    "\n",
    "model = TranslatedNetwork(network_tree=net,\n",
    "                          default_activation=nn.ReLU(),\n",
    "                          default_final_activation=nn.Sigmoid())\n",
    "\n",
    "print(model.model)"
   ],
   "metadata": {
    "collapsed": false
   }
  },
  {
   "cell_type": "markdown",
   "source": [
    "## WORKING EXAMPLE - IRIS, 50 RANDOM NETWORKS EVALUATION"
   ],
   "metadata": {
    "collapsed": false
   }
  },
  {
   "cell_type": "code",
   "execution_count": 4,
   "outputs": [],
   "source": [
    "import torch\n",
    "import pandas as pd\n",
    "from sklearn.model_selection import train_test_split\n",
    "from sklearn.preprocessing import LabelEncoder\n",
    "\n",
    "data = pd.read_csv('C:\\\\Users\\\\drikb\\\\Desktop\\\\Candelieri Project\\\\CFG NAS\\\\data\\\\iris.csv')\n",
    "data = data[data.columns[1:]]\n",
    "\n",
    "train_data, test_data = train_test_split(data, stratify=data['Species'])\n",
    "\n",
    "train_x, train_y = train_data[train_data.columns[:-1]].to_numpy(), train_data[train_data.columns[-1]].to_numpy()\n",
    "test_x, test_y = test_data[test_data.columns[:-1]].to_numpy(), test_data[test_data.columns[-1]].to_numpy()\n",
    "\n",
    "label_encoder = LabelEncoder()\n",
    "label_encoder.fit(train_y)\n",
    "train_y = label_encoder.transform(train_y)\n",
    "test_y = label_encoder.transform(test_y)\n",
    "\n",
    "# One vs. all\n",
    "train_y = train_y == 0\n",
    "test_y = test_y == 0\n",
    "\n",
    "dtype = torch.float32\n",
    "train_x, train_y, test_x, test_y = torch.tensor(train_x, dtype=dtype), torch.tensor(train_y, dtype=dtype), torch.tensor(test_x, dtype=dtype), torch.tensor(test_y, dtype=dtype)\n",
    "train_y = train_y.unsqueeze(-1)\n",
    "test_y = test_y.unsqueeze(-1)"
   ],
   "metadata": {
    "collapsed": false
   }
  },
  {
   "cell_type": "code",
   "execution_count": 5,
   "outputs": [],
   "source": [
    "lingram = LinearGrammar(input_dim=4,\n",
    "                        output_dim=1,\n",
    "                        n_layers=5,\n",
    "                        hidden_in=256,\n",
    "                        hidden_out=8)\n",
    "\n",
    "default_activation = nn.ReLU()\n",
    "default_final_activation = nn.Sigmoid()\n",
    "\n",
    "networks = []\n",
    "for i in range(50):\n",
    "    network_tree = lingram.produceNetwork()\n",
    "    networks.append(TranslatedNetwork(network_tree=network_tree,\n",
    "                                      default_activation=default_activation,\n",
    "                                      default_final_activation=default_final_activation))"
   ],
   "metadata": {
    "collapsed": false
   }
  },
  {
   "cell_type": "code",
   "execution_count": 6,
   "outputs": [],
   "source": [
    "from cfg_nas.Trainer import AutoTrainer\n",
    "from torch.optim import AdamW\n",
    "\n",
    "auto_trainer = AutoTrainer(train_data=train_x,\n",
    "                           train_labels=train_y,\n",
    "                           test_data=test_x,\n",
    "                           test_labels=test_y,\n",
    "                           criterion=nn.BCELoss(reduction='sum'),\n",
    "                           optimizer=AdamW,\n",
    "                           num_epochs=100,\n",
    "                           lr=0.01,\n",
    "                           batch_size=64)"
   ],
   "metadata": {
    "collapsed": false
   }
  },
  {
   "cell_type": "code",
   "execution_count": 7,
   "outputs": [
    {
     "name": "stderr",
     "output_type": "stream",
     "text": [
      "100%|██████████| 100/100 [00:01<00:00, 73.27it/s]\n",
      "100%|██████████| 100/100 [00:01<00:00, 97.93it/s]\n",
      "100%|██████████| 100/100 [00:00<00:00, 115.03it/s]\n",
      "100%|██████████| 100/100 [00:00<00:00, 109.47it/s]\n",
      "100%|██████████| 100/100 [00:00<00:00, 117.67it/s]\n",
      "100%|██████████| 100/100 [00:00<00:00, 105.47it/s]\n",
      "100%|██████████| 100/100 [00:01<00:00, 85.05it/s]\n",
      "100%|██████████| 100/100 [00:00<00:00, 109.24it/s]\n",
      "100%|██████████| 100/100 [00:00<00:00, 104.55it/s]\n",
      "100%|██████████| 100/100 [00:01<00:00, 65.18it/s]\n",
      "100%|██████████| 100/100 [00:00<00:00, 101.06it/s]\n",
      "100%|██████████| 100/100 [00:01<00:00, 90.54it/s]\n",
      "100%|██████████| 100/100 [00:01<00:00, 87.68it/s]\n",
      "100%|██████████| 100/100 [00:00<00:00, 122.56it/s]\n",
      "100%|██████████| 100/100 [00:01<00:00, 96.96it/s]\n",
      "100%|██████████| 100/100 [00:01<00:00, 92.32it/s]\n",
      "100%|██████████| 100/100 [00:00<00:00, 126.68it/s]\n",
      "100%|██████████| 100/100 [00:00<00:00, 122.72it/s]\n",
      "100%|██████████| 100/100 [00:01<00:00, 86.83it/s]\n",
      "100%|██████████| 100/100 [00:01<00:00, 91.55it/s]\n",
      "100%|██████████| 100/100 [00:01<00:00, 87.04it/s]\n",
      "100%|██████████| 100/100 [00:00<00:00, 121.47it/s]\n",
      "100%|██████████| 100/100 [00:00<00:00, 109.16it/s]\n",
      "100%|██████████| 100/100 [00:01<00:00, 79.21it/s]\n",
      "100%|██████████| 100/100 [00:00<00:00, 103.22it/s]\n",
      "100%|██████████| 100/100 [00:01<00:00, 88.40it/s]\n",
      "100%|██████████| 100/100 [00:01<00:00, 86.22it/s]\n",
      "100%|██████████| 100/100 [00:01<00:00, 89.93it/s]\n",
      "100%|██████████| 100/100 [00:01<00:00, 95.42it/s]\n",
      "100%|██████████| 100/100 [00:00<00:00, 107.44it/s]\n",
      "100%|██████████| 100/100 [00:01<00:00, 78.11it/s]\n",
      "100%|██████████| 100/100 [00:01<00:00, 80.73it/s]\n",
      "100%|██████████| 100/100 [00:00<00:00, 118.38it/s]\n",
      "100%|██████████| 100/100 [00:01<00:00, 88.44it/s]\n",
      "100%|██████████| 100/100 [00:01<00:00, 98.27it/s]\n",
      "100%|██████████| 100/100 [00:00<00:00, 125.08it/s]\n",
      "100%|██████████| 100/100 [00:00<00:00, 108.98it/s]\n",
      "100%|██████████| 100/100 [00:00<00:00, 124.77it/s]\n",
      "100%|██████████| 100/100 [00:00<00:00, 104.85it/s]\n",
      "100%|██████████| 100/100 [00:01<00:00, 86.43it/s]\n",
      "100%|██████████| 100/100 [00:00<00:00, 112.89it/s]\n",
      "100%|██████████| 100/100 [00:01<00:00, 78.93it/s]\n",
      "100%|██████████| 100/100 [00:00<00:00, 120.16it/s]\n",
      "100%|██████████| 100/100 [00:00<00:00, 104.30it/s]\n",
      "100%|██████████| 100/100 [00:00<00:00, 126.35it/s]\n",
      "100%|██████████| 100/100 [00:01<00:00, 93.12it/s]\n",
      "100%|██████████| 100/100 [00:00<00:00, 105.88it/s]\n",
      "100%|██████████| 100/100 [00:00<00:00, 111.70it/s]\n",
      "100%|██████████| 100/100 [00:00<00:00, 129.55it/s]\n",
      "100%|██████████| 100/100 [00:00<00:00, 110.52it/s]\n"
     ]
    }
   ],
   "source": [
    "performance_list = {'avg_train_loss' : [],\n",
    "                    'avg_test_loss' : [],\n",
    "                   'test_accuracy' : []}\n",
    "\n",
    "for network in networks:\n",
    "    avg_test_loss, avg_train_loss, test_accuracy = auto_trainer.train(network)\n",
    "    performance_list['avg_train_loss'].append(avg_train_loss)\n",
    "    performance_list['avg_test_loss'].append(avg_test_loss)\n",
    "    performance_list['test_accuracy'].append(test_accuracy)\n"
   ],
   "metadata": {
    "collapsed": false
   }
  },
  {
   "cell_type": "code",
   "execution_count": 8,
   "outputs": [
    {
     "data": {
      "text/plain": "<Figure size 640x480 with 1 Axes>",
      "image/png": "[encoded data removed]"
     },
     "metadata": {},
     "output_type": "display_data"
    }
   ],
   "source": [
    "import seaborn as sns\n",
    "import matplotlib.pyplot as plt\n",
    "\n",
    "sns.barplot(performance_list['avg_test_loss'])\n",
    "plt.show()"
   ],
   "metadata": {
    "collapsed": false
   }
  },
  {
   "cell_type": "code",
   "execution_count": 9,
   "outputs": [
    {
     "data": {
      "text/plain": "<Figure size 640x480 with 1 Axes>",
      "image/png": "[encoded data removed]"
     },
     "metadata": {},
     "output_type": "display_data"
    }
   ],
   "source": [
    "sns.barplot(performance_list['test_accuracy'])\n",
    "plt.show()"
   ],
   "metadata": {
    "collapsed": false
   }
  }
 ],
 "metadata": {
  "kernelspec": {
   "display_name": "Python 3",
   "language": "python",
   "name": "python3"
  },
  "language_info": {
   "codemirror_mode": {
    "name": "ipython",
    "version": 2
   },
   "file_extension": ".py",
   "mimetype": "text/x-python",
   "name": "python",
   "nbconvert_exporter": "python",
   "pygments_lexer": "ipython2",
   "version": "2.7.6"
  }
 },
 "nbformat": 4,
 "nbformat_minor": 0
}
