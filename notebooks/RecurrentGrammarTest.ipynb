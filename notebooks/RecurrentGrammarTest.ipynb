{
 "cells": [
  {
   "cell_type": "code",
   "execution_count": 1,
   "metadata": {
    "collapsed": true
   },
   "outputs": [],
   "source": [
    "# RECURRENT GRAMMAR"
   ]
  },
  {
   "cell_type": "markdown",
   "source": [
    "Recurrent grammar is based on RecurrentGrammarV2 and RecurrentTranslator"
   ],
   "metadata": {
    "collapsed": false
   }
  },
  {
   "cell_type": "markdown",
   "source": [
    "### GENERATE RANDOM NETWORK\n",
    "\n",
    "This grammar works with a set of production rules which generate a random network without specifying dimensions such as number of features for each layer.\n",
    "\n",
    "The user must specify the desired number of layers in the network and the maximum of these layers which are recurrent.\n",
    "\n",
    "Tree construction is sequential and follows these simple rules:\n",
    "1. First node is always \\<start\\>\n",
    "2. If previous node is \\<start\\>, sampled node can only be a recurrent layer (LSTM or GRU).\n",
    "3. If previous node is recurrent, if maximum number of recurrent layers is not reached, sampled node can be a recurrent layer or a linear layer (with 2/3 probability of being recurrent), otherwise it can be only linear.\n",
    "4. If previous node is linear, sampled node can be, with same probability, linear or dropout.\n",
    "5. If previous node is dropout, sampled node can only be linear.\n",
    "6. Last node is always \\<end\\>."
   ],
   "metadata": {
    "collapsed": false
   }
  },
  {
   "cell_type": "code",
   "execution_count": 2,
   "outputs": [
    {
     "name": "stdout",
     "output_type": "stream",
     "text": [
      "['<start>', None, None]\n",
      "['LSTM', None, None]\n",
      "['linear', None, None]\n",
      "['dropout', None, None]\n",
      "['linear', None, None]\n",
      "['linear', None, None]\n",
      "['<end>', None, None]\n"
     ]
    }
   ],
   "source": [
    "from cfg_nas.RecurrentGrammarV2 import RecurrentProductionRules\n",
    "\n",
    "n_layers=5\n",
    "max_recurrent_layers=2\n",
    "\n",
    "production_rules = RecurrentProductionRules(n_layers=n_layers,\n",
    "                                            max_recurrent_layers=max_recurrent_layers)\n",
    "\n",
    "empty_tree = production_rules.grow_tree()\n",
    "\n",
    "for node in empty_tree:\n",
    "    print(node)"
   ],
   "metadata": {
    "collapsed": false
   }
  },
  {
   "cell_type": "markdown",
   "source": [
    "### FILL THE RANDOM NETWORK\n",
    "\n",
    "Class __RecurrentGrammar__ does two things:\n",
    "1. Generates an empty tree (as before)\n",
    "2. Fill empty tree entries with reasonable values\n",
    "\n",
    "It needs as parameters:\n",
    "* Input dimension (number of features of input data)\n",
    "* Output dimension (ex. 1 could be regression or binary classification)\n",
    "* hidden_in (dimension of the recurrent layers)\n",
    "* hidden_out (target dimension of linear layers)\n",
    "* Number of layers\n",
    "* Maximum number of recurrent layers\n",
    "\n",
    "Setting layers parameters follow some rules:\n",
    "\n",
    "__\\<start\\>__: this node is filled in the first position with the number of _features of input data_\n",
    "\n",
    "__recurrent__: recurrent modules are set such that they take as input previous dimension, and transform always to __hidden\\_in__. In first position we can find number of _output neurons_, second dimension is empty.\n",
    "\n",
    "__linear__: linear modules number of features are set such that there is linear convergence from _hidden\\_in_ to _hidden\\_out_. Notice if previous node is recurrent, a __PickLast__ module is added which takes as linear input the last hidden state of recurrent network. In first position we can find number of _output neurons_ while second dimension is empty.\n",
    "\n",
    "__dropout__: _dropout percentage_ is randomly sampled from a Beta with most of the probability mass concentrated in values lower than 0.5. This percenage can be found in first position while second position is empty\n",
    "\n",
    "__\\<end\\>__: this node is the final dense layer, which outputs objective number of features. This quantity is found in first position while second is empty."
   ],
   "metadata": {
    "collapsed": false
   }
  },
  {
   "cell_type": "code",
   "execution_count": 5,
   "outputs": [
    {
     "name": "stdout",
     "output_type": "stream",
     "text": [
      "('<start>', 64, None)\n",
      "('GRU', 256, None)\n",
      "('linear', 208, None)\n",
      "('dropout', 0.3165611404924837, None)\n",
      "('linear', 112, None)\n",
      "('dropout', 0.5997022262566577, None)\n",
      "('<end>', 1, None)\n"
     ]
    }
   ],
   "source": [
    "from cfg_nas.RecurrentGrammarV2 import RecurrentGrammar\n",
    "\n",
    "recgram = RecurrentGrammar(input_dim=64,\n",
    "                           output_dim=1,\n",
    "                           hidden_in=256,\n",
    "                           hidden_out=64,\n",
    "                           n_layers=5,\n",
    "                           max_recurrent_layers=2)\n",
    "\n",
    "net = recgram.produceNetwork()\n",
    "for layer in net:\n",
    "    print(layer)"
   ],
   "metadata": {
    "collapsed": false
   }
  },
  {
   "cell_type": "markdown",
   "source": [
    "### TRANSLATE THE MODEL INTO A TORCH WORKING MODEL\n",
    "\n",
    "In otder to translate previous network to a working pytorch architecture, we need to pass it to TranslatedNetwork, which only needs the specification of the last activation and the type of all inner activations."
   ],
   "metadata": {
    "collapsed": false
   }
  },
  {
   "cell_type": "code",
   "execution_count": 6,
   "outputs": [
    {
     "name": "stdout",
     "output_type": "stream",
     "text": [
      "Sequential(\n",
      "  (0): GRU(64, 256, batch_first=True)\n",
      "  (1): KeepHidden()\n",
      "  (2): ReLU()\n",
      "  (3): PickLast()\n",
      "  (4): Linear(in_features=256, out_features=208, bias=True)\n",
      "  (5): ReLU()\n",
      "  (6): Dropout(p=0.3165611404924837, inplace=False)\n",
      "  (7): Linear(in_features=208, out_features=112, bias=True)\n",
      "  (8): ReLU()\n",
      "  (9): Dropout(p=0.5997022262566577, inplace=False)\n",
      "  (10): Linear(in_features=112, out_features=1, bias=True)\n",
      "  (11): Sigmoid()\n",
      ")\n"
     ]
    }
   ],
   "source": [
    "from cfg_nas.RecurrentTranslator import TranslatedNetwork\n",
    "from torch import nn\n",
    "\n",
    "model = TranslatedNetwork(network_tree=net,\n",
    "                          default_activation=nn.ReLU(),\n",
    "                          default_final_activation=nn.Sigmoid())\n",
    "\n",
    "print(model.model)"
   ],
   "metadata": {
    "collapsed": false
   }
  },
  {
   "cell_type": "markdown",
   "source": [
    "## WORKING EXAMPLE - SYNTHETIC DATA, 50 RANDOM NETWORKS EVALUATION"
   ],
   "metadata": {
    "collapsed": false
   }
  },
  {
   "cell_type": "code",
   "execution_count": 73,
   "outputs": [],
   "source": [
    "import torch\n",
    "import torch.nn.functional as F\n",
    "\n",
    "def generate_positive_definite_matrix(dim):\n",
    "    # Generate a random symmetric matrix\n",
    "    A = torch.randn(dim, dim)\n",
    "    A = 0.5 * (A + A.t())\n",
    "\n",
    "    # Ensure the matrix is positive definite\n",
    "    A = A + dim * torch.eye(dim)\n",
    "\n",
    "    return A\n",
    "\n",
    "def multivariate_normal_samples(mean, cov_matrix, num_samples):\n",
    "    # Ensure that the covariance matrix is positive definite\n",
    "    cov_matrix = F.softplus(cov_matrix) + 1e-6 * torch.eye(cov_matrix.shape[0])\n",
    "\n",
    "    # Cholesky decomposition\n",
    "    L = torch.linalg.cholesky(cov_matrix, upper=False)\n",
    "\n",
    "    # Generate samples\n",
    "    standard_normal_samples = torch.randn(num_samples, cov_matrix.shape[0])\n",
    "    samples = mean + torch.matmul(L, standard_normal_samples.t()).t()\n",
    "\n",
    "    return samples\n",
    "\n",
    "def ARProcess(size, length, features, coeff, mu=0):\n",
    "    if isinstance(mu, (int, float)):\n",
    "        mu = torch.ones((features)) + mu\n",
    "    cov_matrix = generate_positive_definite_matrix(features)\n",
    "    x_0 = multivariate_normal_samples(mu, cov_matrix, size)\n",
    "    sequence = torch.empty((size, length, features))\n",
    "    sequence[:,0,:] = x_0\n",
    "    for i in range(1, length):\n",
    "        x = multivariate_normal_samples(mu, cov_matrix, size)\n",
    "        sequence[:,i,:] = sequence[:,i-1,:] + coeff*x\n",
    "    return sequence"
   ],
   "metadata": {
    "collapsed": false
   }
  },
  {
   "cell_type": "code",
   "execution_count": 74,
   "outputs": [
    {
     "data": {
      "text/plain": "[<matplotlib.lines.Line2D at 0x1ca9a427a90>]"
     },
     "execution_count": 74,
     "metadata": {},
     "output_type": "execute_result"
    },
    {
     "data": {
      "text/plain": "<Figure size 640x480 with 1 Axes>",
      "image/png": "[encoded data removed]"
     },
     "metadata": {},
     "output_type": "display_data"
    }
   ],
   "source": [
    "import matplotlib.pyplot as plt\n",
    "import numpy as np\n",
    "seq = ARProcess(size=3, length=120, features=30, coeff=-0.5, mu=0.05)\n",
    "plt.plot(np.array(seq[0,:,0]))"
   ],
   "metadata": {
    "collapsed": false
   }
  },
  {
   "cell_type": "markdown",
   "source": [
    "Simulate we have 140 different investment portfolios, composed by good and bad ones"
   ],
   "metadata": {
    "collapsed": false
   }
  },
  {
   "cell_type": "code",
   "execution_count": 96,
   "outputs": [],
   "source": [
    "good_portf = ARProcess(size=70, length=12, features=20, coeff=0.5, mu=0.05)\n",
    "bad_portf = ARProcess(size=70, length=12, features=20, coeff=-0.5, mu=0.05)\n",
    "\n",
    "shuffled_index = torch.randperm(140)\n",
    "\n",
    "labels = (shuffled_index < 70).unsqueeze(-1)*torch.ones((140,1))\n",
    "\n",
    "data = torch.cat([good_portf, bad_portf], dim=0)\n",
    "data = data[shuffled_index]\n",
    "\n",
    "train_size = 100\n",
    "train_x = data[:train_size]\n",
    "train_y = labels[:train_size]\n",
    "test_x = data[train_size:]\n",
    "test_y = labels[train_size:]"
   ],
   "metadata": {
    "collapsed": false
   }
  },
  {
   "cell_type": "code",
   "execution_count": 97,
   "outputs": [],
   "source": [
    "recgram = RecurrentGrammar(input_dim=20,\n",
    "                           output_dim=1,\n",
    "                           hidden_in=128,\n",
    "                           hidden_out=32,\n",
    "                           n_layers=5,\n",
    "                           max_recurrent_layers=2)\n",
    "\n",
    "default_activation = nn.ReLU()\n",
    "default_final_activation = nn.Sigmoid()\n",
    "\n",
    "networks = []\n",
    "for i in range(50):\n",
    "    network_tree = recgram.produceNetwork()\n",
    "    networks.append(TranslatedNetwork(network_tree=network_tree,\n",
    "                                      default_activation=default_activation,\n",
    "                                      default_final_activation=default_final_activation))"
   ],
   "metadata": {
    "collapsed": false
   }
  },
  {
   "cell_type": "code",
   "execution_count": 98,
   "outputs": [],
   "source": [
    "from cfg_nas.Trainer import AutoTrainer\n",
    "from torch.optim import AdamW\n",
    "\n",
    "auto_trainer = AutoTrainer(train_data=train_x,\n",
    "                           train_labels=train_y,\n",
    "                           test_data=test_x,\n",
    "                           test_labels=test_y,\n",
    "                           criterion=nn.BCELoss(reduction='sum'),\n",
    "                           optimizer=AdamW,\n",
    "                           num_epochs=100,\n",
    "                           lr=0.01,\n",
    "                           batch_size=64)"
   ],
   "metadata": {
    "collapsed": false
   }
  },
  {
   "cell_type": "code",
   "execution_count": 99,
   "outputs": [
    {
     "name": "stderr",
     "output_type": "stream",
     "text": [
      "100%|██████████| 100/100 [00:15<00:00,  6.34it/s]\n",
      "100%|██████████| 100/100 [00:06<00:00, 15.04it/s]\n",
      "100%|██████████| 100/100 [00:16<00:00,  6.21it/s]\n",
      "100%|██████████| 100/100 [00:03<00:00, 26.61it/s]\n",
      "100%|██████████| 100/100 [00:02<00:00, 38.01it/s]\n",
      "100%|██████████| 100/100 [00:14<00:00,  7.03it/s]\n",
      "100%|██████████| 100/100 [00:03<00:00, 27.22it/s]\n",
      "100%|██████████| 100/100 [00:08<00:00, 11.89it/s]\n",
      "100%|██████████| 100/100 [00:07<00:00, 13.29it/s]\n",
      "100%|██████████| 100/100 [00:04<00:00, 24.86it/s]\n",
      "100%|██████████| 100/100 [00:03<00:00, 31.31it/s]\n",
      "100%|██████████| 100/100 [00:05<00:00, 16.84it/s]\n",
      "100%|██████████| 100/100 [00:07<00:00, 13.18it/s]\n",
      "100%|██████████| 100/100 [00:12<00:00,  8.08it/s]\n",
      "100%|██████████| 100/100 [00:04<00:00, 20.82it/s]\n",
      "100%|██████████| 100/100 [00:23<00:00,  4.28it/s]\n",
      "100%|██████████| 100/100 [00:20<00:00,  4.98it/s]\n",
      "100%|██████████| 100/100 [00:05<00:00, 18.50it/s]\n",
      "100%|██████████| 100/100 [00:05<00:00, 18.53it/s]\n",
      "100%|██████████| 100/100 [00:04<00:00, 21.14it/s]\n",
      "100%|██████████| 100/100 [00:04<00:00, 20.12it/s]\n",
      "100%|██████████| 100/100 [00:10<00:00,  9.13it/s]\n",
      "100%|██████████| 100/100 [00:07<00:00, 13.69it/s]\n",
      "100%|██████████| 100/100 [00:03<00:00, 26.37it/s]\n",
      "100%|██████████| 100/100 [00:15<00:00,  6.62it/s]\n",
      "100%|██████████| 100/100 [00:04<00:00, 21.71it/s]\n",
      "100%|██████████| 100/100 [00:03<00:00, 26.33it/s]\n",
      "100%|██████████| 100/100 [00:03<00:00, 26.07it/s]\n",
      "100%|██████████| 100/100 [00:13<00:00,  7.45it/s]\n",
      "100%|██████████| 100/100 [00:09<00:00, 10.47it/s]\n",
      "100%|██████████| 100/100 [00:07<00:00, 12.77it/s]\n",
      "100%|██████████| 100/100 [00:08<00:00, 11.70it/s]\n",
      "100%|██████████| 100/100 [00:02<00:00, 42.16it/s]\n",
      "100%|██████████| 100/100 [00:05<00:00, 17.38it/s]\n",
      "100%|██████████| 100/100 [00:02<00:00, 40.65it/s]\n",
      "100%|██████████| 100/100 [00:22<00:00,  4.50it/s]\n",
      "100%|██████████| 100/100 [00:04<00:00, 22.92it/s]\n",
      "100%|██████████| 100/100 [00:25<00:00,  3.87it/s]\n",
      "100%|██████████| 100/100 [00:16<00:00,  6.22it/s]\n",
      "100%|██████████| 100/100 [00:16<00:00,  5.94it/s]\n",
      "100%|██████████| 100/100 [00:17<00:00,  5.82it/s]\n",
      "100%|██████████| 100/100 [00:09<00:00, 10.48it/s]\n",
      "100%|██████████| 100/100 [00:03<00:00, 25.04it/s]\n",
      "100%|██████████| 100/100 [00:22<00:00,  4.53it/s]\n",
      "100%|██████████| 100/100 [00:02<00:00, 39.94it/s]\n",
      "100%|██████████| 100/100 [00:12<00:00,  7.69it/s]\n",
      "100%|██████████| 100/100 [00:10<00:00,  9.85it/s]\n",
      "100%|██████████| 100/100 [00:05<00:00, 16.78it/s]\n",
      "100%|██████████| 100/100 [00:04<00:00, 24.93it/s]\n",
      "100%|██████████| 100/100 [00:03<00:00, 25.71it/s]\n"
     ]
    }
   ],
   "source": [
    "performance_list = {'avg_train_loss' : [],\n",
    "                    'avg_test_loss' : [],\n",
    "                   'test_accuracy' : []}\n",
    "\n",
    "for network in networks:\n",
    "    avg_test_loss, avg_train_loss, test_accuracy = auto_trainer.train(network)\n",
    "    performance_list['avg_train_loss'].append(avg_train_loss)\n",
    "    performance_list['avg_test_loss'].append(avg_test_loss)\n",
    "    performance_list['test_accuracy'].append(test_accuracy)"
   ],
   "metadata": {
    "collapsed": false
   }
  },
  {
   "cell_type": "code",
   "execution_count": 100,
   "outputs": [
    {
     "data": {
      "text/plain": "<Figure size 640x480 with 1 Axes>",
      "image/png": "[encoded data removed]"
     },
     "metadata": {},
     "output_type": "display_data"
    }
   ],
   "source": [
    "import seaborn as sns\n",
    "import matplotlib.pyplot as plt\n",
    "\n",
    "sns.barplot(performance_list['avg_test_loss'])\n",
    "plt.show()"
   ],
   "metadata": {
    "collapsed": false
   }
  },
  {
   "cell_type": "code",
   "execution_count": 101,
   "outputs": [
    {
     "data": {
      "text/plain": "<Figure size 640x480 with 1 Axes>",
      "image/png": "[encoded data removed]"
     },
     "metadata": {},
     "output_type": "display_data"
    }
   ],
   "source": [
    "sns.barplot(performance_list['test_accuracy'])\n",
    "plt.show()"
   ],
   "metadata": {
    "collapsed": false
   }
  }
 ],
 "metadata": {
  "kernelspec": {
   "display_name": "Python 3",
   "language": "python",
   "name": "python3"
  },
  "language_info": {
   "codemirror_mode": {
    "name": "ipython",
    "version": 2
   },
   "file_extension": ".py",
   "mimetype": "text/x-python",
   "name": "python",
   "nbconvert_exporter": "python",
   "pygments_lexer": "ipython2",
   "version": "2.7.6"
  }
 },
 "nbformat": 4,
 "nbformat_minor": 0
}
